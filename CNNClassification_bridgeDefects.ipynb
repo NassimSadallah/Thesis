{
 "cells": [
  {
   "cell_type": "code",
   "execution_count": 145,
   "id": "e40525e7-952a-45f8-ade5-b55e1f802197",
   "metadata": {},
   "outputs": [],
   "source": [
    "def bin2int(x):\n",
    "    y = 0\n",
    "    for i,j in enumerate(x):\n",
    "        y += j<<i\n",
    "    return y\n",
    "\n",
    "import matplotlib.pyplot as plt\n",
    "import numpy as np\n",
    "\n",
    "def imshow_(img):\n",
    "    img = img / 2 + 0.5\n",
    "    npimg = img.numpy()\n",
    "    plt.imshow(np.transpose(npimg, (1,2,0)))\n",
    "    \n",
    "    plt.show()\n",
    "\n",
    "def showdata_(dataloader):\n",
    "\n",
    "    dataiter = iter(dataloader)\n",
    "    images, labels = next(dataiter)\n",
    "    imshow_(torchvision.utils.make_grid(images))\n",
    "    classelabel = [[] for i in range(batch_size)]\n",
    "    for z, i in enumerate(labels.numpy()):\n",
    "        tmp = []\n",
    "        for idx, j in enumerate(i):\n",
    "            if int(j)==True:\n",
    "                tmp.append(idx)\n",
    "        classelabel[z] = tmp\n",
    "        \n",
    "    classes = ('Bearing','CoverPlateTermina.','GussetPlateConnect.','OutOfPlaneStiffener')\n",
    "    #labelClasse = [classes[idx] for idx in idxs]\n",
    "    for i in range(batch_size):\n",
    "        class_names = ' '.join(f'{classes[k]:5s}' for k in classelabel[i])\n",
    "        print(f'Sample {i+1}: {class_names}', end='\\t')"
   ]
  },
  {
   "cell_type": "code",
   "execution_count": 146,
   "id": "878236a5-44b6-4367-bbb8-589e5c7d5527",
   "metadata": {},
   "outputs": [],
   "source": [
    "def plot_samples(dataset, num_samples=5):\n",
    "    fig, axes = plt.subplots(1, num_samples, figsize=(15, 3))\n",
    "    for i in range(num_samples):\n",
    "        sample = dataset[i]\n",
    "        image = sample[0].permute(1, 2, 0)  # Change dimensions for plotting\n",
    "        label = sample[1]\n",
    "        \n",
    "        axes[i].imshow(image)\n",
    "        axes[i].set_title(f'Label: {label.argmax().item()}')\n",
    "        axes[i].axis('off')\n",
    "    plt.show()\n",
    "\n",
    "def plot_samples_(images, labels, predictions, classes):\n",
    "    batch_size = len(images)\n",
    "    fig, axes = plt.subplots(1, batch_size, figsize=(15, 15))\n",
    "    for idx, (img, label, prediction) in enumerate(zip(images, labels, predictions)):\n",
    "        axes[idx].imshow(img.permute(1, 2, 0))  # Convert CHW to HWC\n",
    "        true_labels = ', '.join([classes[i] for i in range(len(classes)) if label[i] == 1])\n",
    "        predicted_labels = ', '.join([classes[i] for i in range(len(classes)) if prediction[i] == 1])\n",
    "        precision = [(label.astype(float), prediction.astype(float))]\n",
    "        #axes[idx].set_title(f'True: {true_labels}\\nPredicted: {predicted_labels}')\n",
    "        axes[idx].axis('off')\n",
    "        print('sample[',idx,']',precision,' : #True ',true_labels,'\\t #predicted ',predicted_labels, end='\\n')\n",
    "        \n",
    "    plt.show()\n"
   ]
  },
  {
   "cell_type": "code",
   "execution_count": 147,
   "id": "f9126c06-54aa-4637-bfaa-79368ddc8052",
   "metadata": {},
   "outputs": [],
   "source": [
    "import os\n",
    "import torch\n",
    "import pandas as pd\n",
    "from PIL import Image\n",
    "\n",
    "class SteelDefectsDataset(Dataset):\n",
    "    \"\"\"steelDefects dataset.\"\"\"\n",
    "\n",
    "    def __init__(self, csv_file, root_dir, transform=None):\n",
    "        \"\"\"\n",
    "        Arguments:\n",
    "            csv_file (string): Path to the csv file with annotations.\n",
    "            root_dir (string): Directory with all the images.\n",
    "            transform (callable, optional): Optional transform to be applied\n",
    "                on a sample.\n",
    "        \"\"\"\n",
    "        self.defects_frame = pd.read_csv(csv_file)\n",
    "        self.root_dir = root_dir\n",
    "        self.transform = transform\n",
    "\n",
    "    def __len__(self):\n",
    "        return len(self.defects_frame)\n",
    "\n",
    "    def __getitem__(self, idx):\n",
    "        if torch.is_tensor(idx):\n",
    "            idx = idx.tolist()\n",
    "\n",
    "        img_name = os.path.join(self.root_dir, self.defects_frame.iloc[idx, 0])\n",
    "        image = Image.open(img_name)\n",
    "        defects = self.defects_frame.iloc[idx, 1:]\n",
    "        defects = torch.tensor(defects, dtype= torch.float32)\n",
    "        \n",
    "        if self.transform !=None:\n",
    "            image = self.transform(image)\n",
    "\n",
    "        return image, defects"
   ]
  },
  {
   "cell_type": "code",
   "execution_count": 148,
   "id": "2adf1d53-2c26-4169-b288-709219693773",
   "metadata": {
    "scrolled": true
   },
   "outputs": [],
   "source": [
    "from torch.utils.data import Dataset, DataLoader\n",
    "from torchvision import transforms, utils\n",
    "import torch.nn as nn\n",
    "import torch.nn.functional as F\n",
    "import torch.optim as optim\n",
    "import torchvision\n",
    "# Ignore warnings\n",
    "import warnings\n",
    "warnings.filterwarnings(\"ignore\")\n",
    "\n",
    "\n",
    "trainpath = 'CocoBridgeMulticlass/train/'\n",
    "testpath = 'CocoBridgeMulticlass/test/'\n",
    "validpath = 'CocoBridgeMulticlass/valid/'\n",
    "\n",
    "traincsvpath= 'CocoBridgeMulticlass/train/_classes.csv'\n",
    "validcsvpath= 'CocoBridgeMulticlass/valid/_classes.csv'\n",
    "testcsvpath = 'CocoBridgeMulticlass/test/_classes.csv'\n",
    "# Hyperparameters\n",
    "num_classes = 4\n",
    "num_epochs = 5\n",
    "learning_rate = 0.001\n",
    "batch_size = 32\n",
    "\n",
    "#normalize \n",
    "transform = transforms.Compose([transforms.Resize((256, 256)),\n",
    "                                transforms.ToTensor(),\n",
    "                                transforms.Normalize((.5,.5,.5),(.5,.5,.5))])\n",
    "\n",
    "defects_Traindataset = SteelDefectsDataset(csv_file = traincsvpath, root_dir= trainpath, transform= transform)\n",
    "trainloader = torch.utils.data.DataLoader(defects_Traindataset, batch_size = batch_size, shuffle=True)\n",
    "\n",
    "defects_validdataset = SteelDefectsDataset(csv_file=validcsvpath, root_dir=validpath, transform=transform)\n",
    "validloader = torch.utils.data.DataLoader(defects_validdataset, batch_size=batch_size, shuffle=False)\n",
    "\n",
    "defects_Testdataset = SteelDefectsDataset(csv_file=testcsvpath, root_dir=testpath, transform=transform)\n",
    "testloader = torch.utils.data.DataLoader(defects_Testdataset, batch_size=batch_size, shuffle=False)\n",
    "#plot_samples(defects_Traindataset, num_samples=4)\n",
    "#showdata_(trainloader)"
   ]
  },
  {
   "cell_type": "code",
   "execution_count": 149,
   "id": "62545c72-94e1-4f96-b0d1-2e9e0e590af1",
   "metadata": {},
   "outputs": [],
   "source": [
    "class CNN(nn.Module):\n",
    "    def __init__(self, num_classes):\n",
    "        padding = 0\n",
    "        stride = 1\n",
    "        super(CNN, self).__init__()\n",
    "        self.conv1 = nn.Conv2d(in_channels=3, out_channels=32, kernel_size=5,stride=stride, padding=padding)#out 256-5+1 = 252 | pool: 126\n",
    "        self.conv2 = nn.Conv2d(in_channels=32, out_channels=64, kernel_size=5, stride=stride, padding=padding)# out 126-5+1=122 | pool: 61\n",
    "        self.conv3 = nn.Conv2d(in_channels=64, out_channels=128, kernel_size=3, stride=stride, padding=padding)# 61-3+1= 59 | pool = 29\n",
    "        self.pool = nn.MaxPool2d(kernel_size=2, stride=2, padding=0)\n",
    "        self.fc1 = nn.Linear(128*29*29, 512) #dense 1D layer\n",
    "        self.fc2 =nn.Linear(512, num_classes)# output 4 classes\n",
    "        self.dropout = nn.Dropout(0.5)# \n",
    "    \n",
    "    def forward(self, x):\n",
    "        x = self.pool(torch.relu(self.conv1(x)))\n",
    "        x = self.pool(torch.relu(self.conv2(x)))\n",
    "        x = self.pool(torch.relu(self.conv3(x)))\n",
    "        x = torch.flatten(x,1)\n",
    "        x = torch.relu(self.fc1(x))\n",
    "        x = self.dropout(x)\n",
    "        x = self.fc2(x)\n",
    "        return x    "
   ]
  },
  {
   "cell_type": "code",
   "execution_count": 150,
   "id": "8f7567c1-d32f-4e61-bd87-5ea99ad715af",
   "metadata": {},
   "outputs": [
    {
     "name": "stdout",
     "output_type": "stream",
     "text": [
      "begin training for  5\n",
      "type: <class 'torch.Tensor'> <class 'torch.Tensor'> tensor([1., 0., 0., 1.]) tensor([ 2.2837, -4.5149, -3.9003,  1.3061], grad_fn=<SelectBackward0>)d0>)\r"
     ]
    }
   ],
   "source": [
    "net = CNN(num_classes=num_classes)\n",
    "import time\n",
    "criterion = nn.BCEWithLogitsLoss()\n",
    "optimizer = optim.Adam(net.parameters(), lr=learning_rate)\n",
    "print(f'begin training for ',num_epochs ,end='\\n')\n",
    "for epoch in range(num_epochs):\n",
    "    run_loss = 0.0\n",
    "    net.train()\n",
    "    for i, data in enumerate(trainloader, 0):\n",
    "        \n",
    "        inputs, labels = data\n",
    "        \n",
    "        outputs = net(inputs)\n",
    "        \n",
    "        loss = criterion(outputs, labels.type_as(outputs))\n",
    "        print('type:',type(labels), type(outputs), labels[1], outputs[1], end='\\r')\n",
    "        #backpropagation\n",
    "        loss.backward()\n",
    "        optimizer.step()\n",
    "        run_loss+= loss.item()\n",
    "        optimizer.zero_grad()\n",
    "        \n",
    "        if i%4 == 4:\n",
    "            print(f'Epoch [{epoch+1}/{num_epochs}], Loss: {run_loss/len(trainloader):.4f}', end='\\n')\n",
    "            run_loss=0.0\n",
    "    pathsave = 'G:/TrainedModels_tutos/SteelBridge_MLabelsClassification_B32.pth'\n",
    "    torch.save(net.state_dict(), pathsave)"
   ]
  },
  {
   "cell_type": "code",
   "execution_count": null,
   "id": "f0a5d686-589c-4700-9bed-82d0132701a4",
   "metadata": {},
   "outputs": [],
   "source": []
  },
  {
   "cell_type": "code",
   "execution_count": 151,
   "id": "ceabbdb7-6ae7-4518-bbe2-196b02f33ccb",
   "metadata": {},
   "outputs": [],
   "source": [
    "path = 'G:/TrainedModels_tutos/SteelBridge_MLabelsClassification_B32.pth'\n",
    "torch.save(net.state_dict(), path)"
   ]
  },
  {
   "cell_type": "code",
   "execution_count": 152,
   "id": "9d46c711-bbbd-480d-9a79-9801ead889c2",
   "metadata": {},
   "outputs": [
    {
     "data": {
      "text/plain": [
       "<All keys matched successfully>"
      ]
     },
     "execution_count": 152,
     "metadata": {},
     "output_type": "execute_result"
    }
   ],
   "source": [
    "net = CNN(num_classes=num_classes)\n",
    "net.load_state_dict(torch.load(path))"
   ]
  },
  {
   "cell_type": "code",
   "execution_count": 153,
   "id": "ecf4613a-6689-4e0c-8796-8cb8d0ae5306",
   "metadata": {},
   "outputs": [
    {
     "name": "stdout",
     "output_type": "stream",
     "text": [
      "Accuracy of the network: 79.78%\n"
     ]
    }
   ],
   "source": [
    "# Evaluation\n",
    "testloader = torch.utils.data.DataLoader(defects_Testdataset, batch_size=batch_size, shuffle=False)\n",
    "def evaluate_model(dataloader):\n",
    "    net.eval()  # Set the model to evaluation mode\n",
    "    total, correct = 0, 0\n",
    "    \n",
    "    with torch.no_grad():\n",
    "        for data in dataloader:\n",
    "            inputs, labels = data#X, y\n",
    "            outputs= torch.sigmoid(net(inputs)).numpy()\n",
    "            predicted = (outputs>0.5).astype(int)\n",
    "            #print(predicted[0], labels[0], outputs1[1])\n",
    "            total += labels.size(0) * labels.size(1)\n",
    "            #print(outputs, labels.size(0) , labels.size(1), labels.size(0) * labels.size(1))\n",
    "            correct += (predicted == labels.numpy().astype(int)).sum().item()\n",
    "    \n",
    "    accuracy = 100 * correct / total\n",
    "    print(f'Accuracy of the network: {accuracy:.2f}%')\n",
    "    \n",
    "    net.train()  # Set the model back to training mode\n",
    "evaluate_model(testloader)"
   ]
  },
  {
   "cell_type": "code",
   "execution_count": 154,
   "id": "c2e67809-975e-4c60-bd57-0716b199219a",
   "metadata": {},
   "outputs": [
    {
     "name": "stderr",
     "output_type": "stream",
     "text": [
      "Clipping input data to the valid range for imshow with RGB data ([0..1] for floats or [0..255] for integers).\n",
      "Clipping input data to the valid range for imshow with RGB data ([0..1] for floats or [0..255] for integers).\n",
      "Clipping input data to the valid range for imshow with RGB data ([0..1] for floats or [0..255] for integers).\n",
      "Clipping input data to the valid range for imshow with RGB data ([0..1] for floats or [0..255] for integers).\n",
      "Clipping input data to the valid range for imshow with RGB data ([0..1] for floats or [0..255] for integers).\n",
      "Clipping input data to the valid range for imshow with RGB data ([0..1] for floats or [0..255] for integers).\n",
      "Clipping input data to the valid range for imshow with RGB data ([0..1] for floats or [0..255] for integers).\n",
      "Clipping input data to the valid range for imshow with RGB data ([0..1] for floats or [0..255] for integers).\n",
      "Clipping input data to the valid range for imshow with RGB data ([0..1] for floats or [0..255] for integers).\n",
      "Clipping input data to the valid range for imshow with RGB data ([0..1] for floats or [0..255] for integers).\n",
      "Clipping input data to the valid range for imshow with RGB data ([0..1] for floats or [0..255] for integers).\n",
      "Clipping input data to the valid range for imshow with RGB data ([0..1] for floats or [0..255] for integers).\n",
      "Clipping input data to the valid range for imshow with RGB data ([0..1] for floats or [0..255] for integers).\n",
      "Clipping input data to the valid range for imshow with RGB data ([0..1] for floats or [0..255] for integers).\n",
      "Clipping input data to the valid range for imshow with RGB data ([0..1] for floats or [0..255] for integers).\n",
      "Clipping input data to the valid range for imshow with RGB data ([0..1] for floats or [0..255] for integers).\n",
      "Clipping input data to the valid range for imshow with RGB data ([0..1] for floats or [0..255] for integers).\n",
      "Clipping input data to the valid range for imshow with RGB data ([0..1] for floats or [0..255] for integers).\n",
      "Clipping input data to the valid range for imshow with RGB data ([0..1] for floats or [0..255] for integers).\n",
      "Clipping input data to the valid range for imshow with RGB data ([0..1] for floats or [0..255] for integers).\n",
      "Clipping input data to the valid range for imshow with RGB data ([0..1] for floats or [0..255] for integers).\n",
      "Clipping input data to the valid range for imshow with RGB data ([0..1] for floats or [0..255] for integers).\n",
      "Clipping input data to the valid range for imshow with RGB data ([0..1] for floats or [0..255] for integers).\n",
      "Clipping input data to the valid range for imshow with RGB data ([0..1] for floats or [0..255] for integers).\n",
      "Clipping input data to the valid range for imshow with RGB data ([0..1] for floats or [0..255] for integers).\n",
      "Clipping input data to the valid range for imshow with RGB data ([0..1] for floats or [0..255] for integers).\n",
      "Clipping input data to the valid range for imshow with RGB data ([0..1] for floats or [0..255] for integers).\n",
      "Clipping input data to the valid range for imshow with RGB data ([0..1] for floats or [0..255] for integers).\n",
      "Clipping input data to the valid range for imshow with RGB data ([0..1] for floats or [0..255] for integers).\n",
      "Clipping input data to the valid range for imshow with RGB data ([0..1] for floats or [0..255] for integers).\n",
      "Clipping input data to the valid range for imshow with RGB data ([0..1] for floats or [0..255] for integers).\n",
      "Clipping input data to the valid range for imshow with RGB data ([0..1] for floats or [0..255] for integers).\n"
     ]
    },
    {
     "name": "stdout",
     "output_type": "stream",
     "text": [
      "sample[ 0 ] [(array([0., 1., 0., 0.]), array([0., 1., 0., 1.]))]  : #True  CoverPlateTermina. \t #predicted  CoverPlateTermina., OutOfPlaneStiffener\n",
      "sample[ 1 ] [(array([1., 0., 0., 1.]), array([1., 0., 0., 1.]))]  : #True  Bearing, OutOfPlaneStiffener \t #predicted  Bearing, OutOfPlaneStiffener\n",
      "sample[ 2 ] [(array([0., 1., 0., 0.]), array([1., 0., 0., 1.]))]  : #True  CoverPlateTermina. \t #predicted  Bearing, OutOfPlaneStiffener\n",
      "sample[ 3 ] [(array([0., 1., 0., 1.]), array([0., 0., 0., 1.]))]  : #True  CoverPlateTermina., OutOfPlaneStiffener \t #predicted  OutOfPlaneStiffener\n",
      "sample[ 4 ] [(array([1., 0., 0., 1.]), array([0., 0., 0., 1.]))]  : #True  Bearing, OutOfPlaneStiffener \t #predicted  OutOfPlaneStiffener\n",
      "sample[ 5 ] [(array([0., 1., 0., 1.]), array([0., 1., 0., 1.]))]  : #True  CoverPlateTermina., OutOfPlaneStiffener \t #predicted  CoverPlateTermina., OutOfPlaneStiffener\n",
      "sample[ 6 ] [(array([1., 0., 0., 1.]), array([1., 0., 0., 1.]))]  : #True  Bearing, OutOfPlaneStiffener \t #predicted  Bearing, OutOfPlaneStiffener\n",
      "sample[ 7 ] [(array([0., 0., 0., 1.]), array([0., 0., 0., 1.]))]  : #True  OutOfPlaneStiffener \t #predicted  OutOfPlaneStiffener\n",
      "sample[ 8 ] [(array([1., 0., 0., 1.]), array([1., 0., 0., 1.]))]  : #True  Bearing, OutOfPlaneStiffener \t #predicted  Bearing, OutOfPlaneStiffener\n",
      "sample[ 9 ] [(array([0., 0., 1., 1.]), array([0., 0., 0., 1.]))]  : #True  GussetPlateConnect., OutOfPlaneStiffener \t #predicted  OutOfPlaneStiffener\n",
      "sample[ 10 ] [(array([1., 0., 0., 1.]), array([1., 0., 0., 1.]))]  : #True  Bearing, OutOfPlaneStiffener \t #predicted  Bearing, OutOfPlaneStiffener\n",
      "sample[ 11 ] [(array([1., 0., 0., 0.]), array([1., 0., 0., 1.]))]  : #True  Bearing \t #predicted  Bearing, OutOfPlaneStiffener\n",
      "sample[ 12 ] [(array([1., 0., 0., 0.]), array([1., 0., 0., 1.]))]  : #True  Bearing \t #predicted  Bearing, OutOfPlaneStiffener\n",
      "sample[ 13 ] [(array([0., 1., 0., 1.]), array([0., 0., 0., 1.]))]  : #True  CoverPlateTermina., OutOfPlaneStiffener \t #predicted  OutOfPlaneStiffener\n",
      "sample[ 14 ] [(array([1., 0., 0., 0.]), array([1., 0., 0., 1.]))]  : #True  Bearing \t #predicted  Bearing, OutOfPlaneStiffener\n",
      "sample[ 15 ] [(array([1., 0., 0., 1.]), array([0., 0., 0., 1.]))]  : #True  Bearing, OutOfPlaneStiffener \t #predicted  OutOfPlaneStiffener\n",
      "sample[ 16 ] [(array([1., 0., 0., 0.]), array([0., 0., 0., 1.]))]  : #True  Bearing \t #predicted  OutOfPlaneStiffener\n",
      "sample[ 17 ] [(array([0., 0., 1., 1.]), array([0., 0., 0., 1.]))]  : #True  GussetPlateConnect., OutOfPlaneStiffener \t #predicted  OutOfPlaneStiffener\n",
      "sample[ 18 ] [(array([0., 1., 0., 1.]), array([0., 0., 0., 1.]))]  : #True  CoverPlateTermina., OutOfPlaneStiffener \t #predicted  OutOfPlaneStiffener\n",
      "sample[ 19 ] [(array([0., 0., 0., 1.]), array([1., 0., 0., 1.]))]  : #True  OutOfPlaneStiffener \t #predicted  Bearing, OutOfPlaneStiffener\n",
      "sample[ 20 ] [(array([1., 0., 0., 1.]), array([1., 0., 0., 1.]))]  : #True  Bearing, OutOfPlaneStiffener \t #predicted  Bearing, OutOfPlaneStiffener\n",
      "sample[ 21 ] [(array([1., 0., 0., 0.]), array([0., 0., 0., 1.]))]  : #True  Bearing \t #predicted  OutOfPlaneStiffener\n",
      "sample[ 22 ] [(array([0., 1., 0., 1.]), array([1., 0., 0., 1.]))]  : #True  CoverPlateTermina., OutOfPlaneStiffener \t #predicted  Bearing, OutOfPlaneStiffener\n",
      "sample[ 23 ] [(array([1., 0., 0., 1.]), array([1., 0., 0., 1.]))]  : #True  Bearing, OutOfPlaneStiffener \t #predicted  Bearing, OutOfPlaneStiffener\n",
      "sample[ 24 ] [(array([0., 1., 0., 1.]), array([0., 1., 0., 1.]))]  : #True  CoverPlateTermina., OutOfPlaneStiffener \t #predicted  CoverPlateTermina., OutOfPlaneStiffener\n",
      "sample[ 25 ] [(array([1., 0., 0., 1.]), array([1., 0., 0., 1.]))]  : #True  Bearing, OutOfPlaneStiffener \t #predicted  Bearing, OutOfPlaneStiffener\n",
      "sample[ 26 ] [(array([0., 0., 1., 1.]), array([0., 0., 1., 1.]))]  : #True  GussetPlateConnect., OutOfPlaneStiffener \t #predicted  GussetPlateConnect., OutOfPlaneStiffener\n",
      "sample[ 27 ] [(array([1., 0., 0., 1.]), array([1., 0., 0., 1.]))]  : #True  Bearing, OutOfPlaneStiffener \t #predicted  Bearing, OutOfPlaneStiffener\n",
      "sample[ 28 ] [(array([1., 0., 0., 0.]), array([1., 0., 0., 1.]))]  : #True  Bearing \t #predicted  Bearing, OutOfPlaneStiffener\n",
      "sample[ 29 ] [(array([1., 0., 0., 0.]), array([1., 0., 0., 1.]))]  : #True  Bearing \t #predicted  Bearing, OutOfPlaneStiffener\n",
      "sample[ 30 ] [(array([0., 0., 1., 1.]), array([0., 0., 0., 1.]))]  : #True  GussetPlateConnect., OutOfPlaneStiffener \t #predicted  OutOfPlaneStiffener\n",
      "sample[ 31 ] [(array([0., 0., 1., 1.]), array([1., 0., 0., 1.]))]  : #True  GussetPlateConnect., OutOfPlaneStiffener \t #predicted  Bearing, OutOfPlaneStiffener\n"
     ]
    },
    {
     "data": {
      "image/png": "[encoded data removed]",
      "text/plain": [
       "<Figure size 1500x1500 with 32 Axes>"
      ]
     },
     "metadata": {},
     "output_type": "display_data"
    }
   ],
   "source": [
    "# Example usage to test the model on a batch of images from the dataloader\n",
    "validloader = torch.utils.data.DataLoader(defects_validdataset, batch_size=batch_size, shuffle=True)\n",
    "dataiter = iter(validloader)\n",
    "images, labels = next(dataiter)\n",
    "classes = ['Bearing','CoverPlateTermina.','GussetPlateConnect.','OutOfPlaneStiffener']\n",
    "\n",
    "with torch.no_grad():\n",
    "    outputs = net(images)\n",
    "    predictions = torch.sigmoid(outputs).numpy()  # Apply sigmoid to get probabilities\n",
    "    predictions = (predictions>.5).astype(int)\n",
    "\n",
    "# Plot the batch of images with true labels and predicted labels\n",
    "plot_samples_(images, labels.numpy(), predictions, classes)\n"
   ]
  },
  {
   "cell_type": "code",
   "execution_count": null,
   "id": "f38f0a4a-05aa-4e83-a8a8-2ce165805217",
   "metadata": {},
   "outputs": [],
   "source": []
  },
  {
   "cell_type": "code",
   "execution_count": null,
   "id": "994d04bb-e661-4fac-a4f5-6142f5b506d7",
   "metadata": {},
   "outputs": [],
   "source": []
  }
 ],
 "metadata": {
  "kernelspec": {
   "display_name": "Python 3 (ipykernel)",
   "language": "python",
   "name": "python3"
  },
  "language_info": {
   "codemirror_mode": {
    "name": "ipython",
    "version": 3
   },
   "file_extension": ".py",
   "mimetype": "text/x-python",
   "name": "python",
   "nbconvert_exporter": "python",
   "pygments_lexer": "ipython3",
   "version": "3.11.7"
  }
 },
 "nbformat": 4,
 "nbformat_minor": 5
}
